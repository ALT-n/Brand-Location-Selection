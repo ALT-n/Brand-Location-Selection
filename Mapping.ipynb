{
 "cells": [
  {
   "cell_type": "code",
   "execution_count": null,
   "metadata": {},
   "outputs": [],
   "source": [
    "import requests\n",
    "from urllib.parse import urlencode\n",
    "import json\n",
    "import csv\n",
    "import pandas as pd\n",
    "from geopy.distance import geodesic \n",
    "import folium"
   ]
  },
  {
   "cell_type": "code",
   "execution_count": null,
   "metadata": {},
   "outputs": [],
   "source": [
    "api_key = ''"
   ]
  },
  {
   "cell_type": "code",
   "execution_count": null,
   "metadata": {},
   "outputs": [],
   "source": [
    "#Cleaning Data "
   ]
  },
  {
   "cell_type": "code",
   "execution_count": null,
   "metadata": {},
   "outputs": [],
   "source": [
    "data = pd.read_csv (r'path.csv')\n",
    "data.head(5)"
   ]
  },
  {
   "cell_type": "code",
   "execution_count": null,
   "metadata": {},
   "outputs": [],
   "source": [
    "population = pd.read_csv (r'path.csv')\n",
    "population.head(5)"
   ]
  },
  {
   "cell_type": "code",
   "execution_count": null,
   "metadata": {},
   "outputs": [],
   "source": [
    "data.rename({\"Store name\":\"StoreName\"}, axis=\"columns\", inplace=True)\n",
    "data.rename({\"Postal Code\":\"PostalCode\"}, axis=\"columns\", inplace=True)\n",
    "data.rename({\"Store Category1\":\"StoreCategory1\"}, axis=\"columns\", inplace=True)\n",
    "data.rename({\"Store Category2\":\"StoreCategory2\"}, axis=\"columns\", inplace=True)\n",
    "data.rename({\"Store Category3\":\"StoreCategory3\"}, axis=\"columns\", inplace=True)\n",
    "data['Category1'] = data['StoreCategory1'].str.split('category/').str[1]\n",
    "data['Category2'] = data['StoreCategory2'].str.split('category/').str[1]\n",
    "data['Category3'] = data['StoreCategory3'].str.split('category/').str[1]\n",
    "data = data.drop(['StoreCategory1', 'StoreCategory2', 'StoreCategory3'], axis=1)\n",
    "data.Category1 = data.Category1.str.replace('+', ', ')\n",
    "data.Category2 = data.Category2.str.replace('+', ', ')\n",
    "data.Category2 = data.Category3.str.replace('+', ', ')\n",
    "data.Address = data.Address.str.replace('\\n', '')\n",
    "data.PostalCode = data.PostalCode.str.replace(' ', '')\n",
    "data.PostalCode = data.PostalCode.str.replace('-', '')\n",
    "data.head(5)"
   ]
  },
  {
   "cell_type": "markdown",
   "metadata": {},
   "source": [
    "# Mapping Competitiors and Potential Location"
   ]
  },
  {
   "cell_type": "code",
   "execution_count": null,
   "metadata": {},
   "outputs": [],
   "source": [
    "def mapping(potential_location_postal_code):\n",
    "    endpoint = f'https://maps.googleapis.com/maps/api/geocode/json'\n",
    "    params = {'address': 'potential_location_postal_code', 'key': api_key}\n",
    "    url_params = urlencode(params)\n",
    "    url = f'{endpoint}?{url_params}'\n",
    "    r = requests.get(url)\n",
    "    latlng = {}\n",
    "    try:\n",
    "        latlng = r.json()['results'][0]['geometry']['location']\n",
    "    except:\n",
    "        pass\n",
    "    potential_location_latlng = (latlng.get('lat'), latlng.get('lng'))\n",
    "    \n",
    "    data['Distance'] = data.apply(lambda x:geodesic((x[\"Latitude\"], x[\"Longitude\"]), potential_location_latlng), axis=1)\n",
    "    \n",
    "    Radius_10km = data.loc[(data['Distance'] < 10.00)]\n",
    "    \n",
    "    New_Data = Radius_10km[Radius_10km[\"Category1\"].str.contains(\"Furniture|Kitchen\")]\n",
    "    \n",
    "    Location_Data = New_Data.sort_values(by=['Distance'], ascending=True)\n",
    "    \n",
    "    New_map = folium.Map(location=[potential_location_latlng], zoom_start=12)\n",
    "    \n",
    "    # instantiate a feature group for the competitors in the dataframe\n",
    "    competitors = folium.map.FeatureGroup()\n",
    "\n",
    "    # loop through the competitiors and add each to the competitors feature group\n",
    "    for lat, lng, in zip(New_Data.Latitude, New_Data.Longitude):\n",
    "        competitors.add_child(\n",
    "            folium.CircleMarker(\n",
    "                [lat3, lng3],\n",
    "                radius=5, # define how big you want the circle markers to be\n",
    "                color='yellow',\n",
    "                fill=True,\n",
    "                fill_color='blue',\n",
    "                fill_opacity=0.6\n",
    "            )\n",
    "         )\n",
    "\n",
    "    # add pop-up text to each marker on the map\n",
    "    latitudes = list(New_Data.Latitude)\n",
    "    longitudes = list(New_Data.Longitude)\n",
    "    labels = list(New_Data.StoreName)\n",
    "\n",
    "    for lat, lng, label in zip(latitudes, longitudes, labels):\n",
    "        folium.Marker([lat, lng], popup=label).add_to(New_map)    \n",
    "    \n",
    "    # add competitors to map\n",
    "    New_map.add_child(competitors)\n",
    "\n",
    "    # add potential location to map\n",
    "    folium.Marker(\n",
    "       location=[potential_location_latlng],\n",
    "       popup='Potential Location',\n",
    "       icon=folium.Icon(color='red', icon='info-sign')\n",
    "    ).add_to(New_map)\n",
    "\n",
    "    Competitiors_in_10km = New_Data['StoreName'].count()\n",
    "    print(\"Number of competitors in 10 km radius:\", Competitiors_in_10km3)\n",
    "    print(\"Population:\", population[population.postcode == potential_location_postal_code].to_string(index=False))\n",
    "    New_map\n"
   ]
  }
 ],
 "metadata": {
  "kernelspec": {
   "display_name": "Python 3",
   "language": "python",
   "name": "python3"
  },
  "language_info": {
   "codemirror_mode": {
    "name": "ipython",
    "version": 3
   },
   "file_extension": ".py",
   "mimetype": "text/x-python",
   "name": "python",
   "nbconvert_exporter": "python",
   "pygments_lexer": "ipython3",
   "version": "3.8.5"
  }
 },
 "nbformat": 4,
 "nbformat_minor": 4
}
