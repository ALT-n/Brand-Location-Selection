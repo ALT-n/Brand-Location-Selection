{
 "cells": [
  {
   "cell_type": "code",
   "execution_count": 5,
   "metadata": {},
   "outputs": [],
   "source": [
    "from bs4 import BeautifulSoup, SoupStrainer\n",
    "import urllib\n",
    "import simplejson\n",
    "import requests\n",
    "from urllib.request import urlopen\n",
    "import json\n",
    "import csv\n",
    "import re\n",
    "from html.parser import HTMLParser\n",
    "import urllib.request"
   ]
  },
  {
   "cell_type": "code",
   "execution_count": 22,
   "metadata": {},
   "outputs": [],
   "source": [
    "class LinkScrape(HTMLParser):\n",
    "    '''The function to find links with all categories'''\n",
    "    def handle_starttag(self, tag, attrs):\n",
    "        CategLinks=[]\n",
    "        ShopLinks=[]\n",
    "        \n",
    "        if tag == 'a':\n",
    "            for attr in attrs:\n",
    "                if attr[0] == 'href':\n",
    "                    link = attr[1]\n",
    "                    if link.find('category') >= 0:\n",
    "                        #url.append(ur)\n",
    "                        #CategLinks.append(url + link)\n",
    "                        CategLinks = url + link\n",
    "                        #print(CategLinks)\n",
    "        return CategLinks\n",
    "        \n",
    "        if tag == 'a':\n",
    "            for attr in CategLinks:\n",
    "                if attr[0] == 'href':\n",
    "                    link = attr[1]\n",
    "                    if link.find('listing') >= 0:\n",
    "                        ShopLinks = CategLinks[0:33] + link[34:]\n",
    "                        print(ShopLinks)\n",
    "                        \n",
    "        #return ShopLinks\n",
    "\n",
    "#https://www.mystore411.com/store/category/ATM   \n",
    "#https://www.mystore411.com/store/listing/1643/BB-T-store-locations\n",
    "    \n",
    "url = 'https://www.mystore411.com'\n",
    "    \n",
    "request_object = urllib.request.Request(url)\n",
    "page_object = urllib.request.urlopen(request_object)\n",
    "newurl = LinkScrape()    \n",
    "newurl = newurl.feed(page_object.read().decode('utf-8'))                       \n",
    "                        \n",
    "                        \n"
   ]
  }
 ],
 "metadata": {
  "kernelspec": {
   "display_name": "Python 3",
   "language": "python",
   "name": "python3"
  },
  "language_info": {
   "codemirror_mode": {
    "name": "ipython",
    "version": 3
   },
   "file_extension": ".py",
   "mimetype": "text/x-python",
   "name": "python",
   "nbconvert_exporter": "python",
   "pygments_lexer": "ipython3",
   "version": "3.8.5"
  }
 },
 "nbformat": 4,
 "nbformat_minor": 4
}
