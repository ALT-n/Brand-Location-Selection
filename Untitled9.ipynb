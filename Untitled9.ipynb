{
 "cells": [
  {
   "cell_type": "code",
   "execution_count": 1,
   "metadata": {},
   "outputs": [],
   "source": [
    "from urllib.request import urlopen \n",
    "from bs4 import BeautifulSoup \n",
    "import re"
   ]
  },
  {
   "cell_type": "code",
   "execution_count": 3,
   "metadata": {},
   "outputs": [
    {
     "name": "stdout",
     "output_type": "stream",
     "text": [
      "https://www.mystore411.com/store/sl/num\n",
      "https://www.mystore411.com/store/sl/A\n",
      "https://www.mystore411.com/store/sl/B\n",
      "https://www.mystore411.com/store/sl/C\n",
      "https://www.mystore411.com/store/sl/D\n",
      "https://www.mystore411.com/store/sl/E\n",
      "https://www.mystore411.com/store/sl/F\n",
      "https://www.mystore411.com/store/sl/G\n",
      "https://www.mystore411.com/store/sl/H\n",
      "https://www.mystore411.com/store/sl/I\n",
      "https://www.mystore411.com/store/sl/J\n",
      "https://www.mystore411.com/store/sl/K\n",
      "https://www.mystore411.com/store/sl/L\n",
      "https://www.mystore411.com/store/sl/M\n",
      "https://www.mystore411.com/store/sl/N\n",
      "https://www.mystore411.com/store/sl/O\n",
      "https://www.mystore411.com/store/sl/P\n",
      "https://www.mystore411.com/store/sl/Q\n",
      "https://www.mystore411.com/store/sl/R\n",
      "https://www.mystore411.com/store/sl/S\n",
      "https://www.mystore411.com/store/sl/T\n",
      "https://www.mystore411.com/store/sl/U\n",
      "https://www.mystore411.com/store/sl/V\n",
      "https://www.mystore411.com/store/sl/W\n",
      "https://www.mystore411.com/store/sl/X\n",
      "https://www.mystore411.com/store/sl/Y\n",
      "https://www.mystore411.com/store/sl/Z\n"
     ]
    }
   ],
   "source": [
    "html = urlopen('https://www.mystore411.com').read()\n",
    "bs = BeautifulSoup(html, 'html.parser')\n",
    "urls = []\n",
    "#newurl = []\n",
    "for link in bs.find('div', {'id':'breadcrumb'}).find_all('a', href=re.compile('^(/store/)((?!:).)*$')):\n",
    "    if 'href' in link.attrs:\n",
    "        urls = 'https://www.mystore411.com' + link.attrs['href']\n",
    "        #add=link.attrs['href']\n",
    "        #url.attend(link.attrs['href'])\n",
    "        #print(link.attrs['href'])\n",
    "        #print(newurl)\n",
    "        print(urls)\n",
    "        \n",
    "        #print(a['href'], a.get_text())\n"
   ]
  },
  {
   "cell_type": "code",
   "execution_count": 5,
   "metadata": {},
   "outputs": [
    {
     "name": "stdout",
     "output_type": "stream",
     "text": [
      "https://www.mystore411.com/store/listing/2176/7-Eleven-store-locations\n",
      "https://www.mystore411.com/store/listing/2617/76-Gas-Station-store-locations\n",
      "https://www.mystore411.com/store/listing/198/ALDI-store-locations\n",
      "https://www.mystore411.com/store/listing/59/Ace-Hardware-store-locations\n",
      "https://www.mystore411.com/store/listing/8/Apple-store-locations\n",
      "https://www.mystore411.com/store/listing/71/Bank-of-America-BofA-store-locations\n",
      "https://www.mystore411.com/store/listing/276/Benjamin-Moore-store-locations\n",
      "https://www.mystore411.com/store/listing/1465/Boost-Mobile-store-locations\n",
      "https://www.mystore411.com/store/listing/28/Burger-King-store-locations\n",
      "https://www.mystore411.com/store/listing/22/CVS-Pharmacy-store-locations\n",
      "https://www.mystore411.com/store/listing/36/Canada/Canada-Post-store-locations\n",
      "https://www.mystore411.com/store/listing/739/Carhartt-store-locations\n",
      "https://www.mystore411.com/store/listing/2616/Circle-K-store-locations\n",
      "https://www.mystore411.com/store/listing/74/Citibank-store-locations\n",
      "https://www.mystore411.com/store/listing/2488/Coinstar-store-locations\n",
      "https://www.mystore411.com/store/listing/1/Costco-store-locations\n",
      "https://www.mystore411.com/store/listing/652/Crocs-store-locations\n",
      "https://www.mystore411.com/store/listing/896/DeWalt-store-locations\n",
      "https://www.mystore411.com/store/listing/406/Dickies-store-locations\n",
      "https://www.mystore411.com/store/listing/840/Do-it-Best-store-locations\n",
      "https://www.mystore411.com/store/listing/903/Dollar-General-store-locations\n",
      "https://www.mystore411.com/store/listing/551/GNC-General-Nutrition-Centers-store-locations\n",
      "https://www.mystore411.com/store/listing/2553/Goodwill-Store-Donations-store-locations\n",
      "https://www.mystore411.com/store/listing/2165/Hancock-Fabrics-store-locations\n",
      "https://www.mystore411.com/store/listing/7/Home-Depot-store-locations\n",
      "https://www.mystore411.com/store/listing/51/IKEA-store-locations\n",
      "https://www.mystore411.com/store/listing/24/KFC-Kentucky-Fried-Chicken-store-locations\n",
      "https://www.mystore411.com/store/listing/93/Kroger-store-locations\n",
      "https://www.mystore411.com/store/listing/2912/LabCorp-store-locations\n",
      "https://www.mystore411.com/store/listing/12/Lowes-store-locations\n",
      "https://www.mystore411.com/store/listing/103/Mastercard-ATM-store-locations\n",
      "https://www.mystore411.com/store/listing/784/Meijer-store-locations\n",
      "https://www.mystore411.com/store/listing/842/Menards-store-locations\n",
      "https://www.mystore411.com/store/listing/78/MetroPCS-store-locations\n",
      "https://www.mystore411.com/store/listing/718/MoneyGram-store-locations\n",
      "https://www.mystore411.com/store/listing/225/Publix-store-locations\n",
      "https://www.mystore411.com/store/listing/2913/Quest-Diagnostics-store-locations\n",
      "https://www.mystore411.com/store/listing/2712/Canada/RBC-Royal-Bank-store-locations\n",
      "https://www.mystore411.com/store/listing/2778/Red-Wing-Shoes-store-locations\n",
      "https://www.mystore411.com/store/listing/2924/STIHL-store-locations\n",
      "https://www.mystore411.com/store/listing/4/Sams-Club-store-locations\n",
      "https://www.mystore411.com/store/listing/2713/Canada/Scotiabank-store-locations\n",
      "https://www.mystore411.com/store/listing/27/Sears-store-locations\n",
      "https://www.mystore411.com/store/listing/2838/Shoe-Show-Shoe-Dept-store-locations\n",
      "https://www.mystore411.com/store/listing/638/Skechers-store-locations\n",
      "https://www.mystore411.com/store/listing/2096/Spirit-Halloween-store-locations\n",
      "https://www.mystore411.com/store/listing/77/Sprint-store-locations\n",
      "https://www.mystore411.com/store/listing/15/Starbucks-store-locations\n",
      "https://www.mystore411.com/store/listing/50/Subway-store-locations\n",
      "https://www.mystore411.com/store/listing/68/T-Mobile-store-locations\n",
      "https://www.mystore411.com/store/listing/2606/Canada/TD-Canada-Trust-store-locations\n",
      "https://www.mystore411.com/store/listing/2/Target-store-locations\n",
      "https://www.mystore411.com/store/listing/2892/The-Salvation-Army-store-locations\n",
      "https://www.mystore411.com/store/listing/2577/Tractor-Supply-store-locations\n",
      "https://www.mystore411.com/store/listing/21/Walgreens-store-locations\n",
      "https://www.mystore411.com/store/listing/3/Walmart-store-locations\n",
      "https://www.mystore411.com/store/listing/2768/Weight-Watchers-store-locations\n",
      "https://www.mystore411.com/store/listing/42/Western-Union-store-locations\n",
      "https://www.mystore411.com/store/listing/514/Winn-Dixie-store-locations\n",
      "https://www.mystore411.com/store/listing/1626/Zumba-Class-store-locations\n"
     ]
    }
   ],
   "source": [
    "for url in [urls]:\n",
    "    html2 = urlopen(url)\n",
    "    soup = BeautifulSoup(html2, 'html.parser')\n",
    "    url2 = 'https://www.mystore411.com'\n",
    "    newnewurl = []\n",
    "    for ul in bs.find_all('ol', class_='col2 d_store_list'):\n",
    "        for li in ul.find_all('li'):\n",
    "            a = li.find('a')\n",
    "            newnewurl = url2 + a['href']\n",
    "        #print(a['href'], a.get_text())\n",
    "            print(newnewurl)"
   ]
  },
  {
   "cell_type": "code",
   "execution_count": null,
   "metadata": {},
   "outputs": [],
   "source": []
  },
  {
   "cell_type": "code",
   "execution_count": null,
   "metadata": {},
   "outputs": [],
   "source": []
  },
  {
   "cell_type": "code",
   "execution_count": null,
   "metadata": {},
   "outputs": [],
   "source": []
  },
  {
   "cell_type": "code",
   "execution_count": null,
   "metadata": {},
   "outputs": [],
   "source": []
  },
  {
   "cell_type": "code",
   "execution_count": null,
   "metadata": {},
   "outputs": [],
   "source": []
  }
 ],
 "metadata": {
  "kernelspec": {
   "display_name": "Python 3",
   "language": "python",
   "name": "python3"
  },
  "language_info": {
   "codemirror_mode": {
    "name": "ipython",
    "version": 3
   },
   "file_extension": ".py",
   "mimetype": "text/x-python",
   "name": "python",
   "nbconvert_exporter": "python",
   "pygments_lexer": "ipython3",
   "version": "3.8.5"
  }
 },
 "nbformat": 4,
 "nbformat_minor": 4
}
