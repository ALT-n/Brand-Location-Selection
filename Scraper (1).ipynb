{
 "cells": [
  {
   "cell_type": "code",
   "execution_count": null,
   "metadata": {},
   "outputs": [],
   "source": [
    "from urllib.request import urlopen \n",
    "from bs4 import BeautifulSoup \n",
    "import re\n",
    "import json\n",
    "import csv\n",
    "import urllib.error"
   ]
  },
  {
   "cell_type": "code",
   "execution_count": null,
   "metadata": {},
   "outputs": [],
   "source": [
    "base_url = 'https://www.mystore411.com'"
   ]
  },
  {
   "cell_type": "code",
   "execution_count": null,
   "metadata": {},
   "outputs": [],
   "source": [
    "def retrieve_shops_first_letter(x):\n",
    "    \"\"\"Get all letter links from the main page\"\"\"\n",
    "    html = urlopen(x)\n",
    "    bs = BeautifulSoup(html, 'html.parser')\n",
    "    urls = []\n",
    "    new_urls=[]\n",
    "    for link in bs.find('div', {'id':'breadcrumb'}).find_all('a', href=re.compile('^(/store/)((?!:).)*$')):\n",
    "        if 'href' in link.attrs:\n",
    "            letters = link.attrs['href']\n",
    "            urls.append(letters)\n",
    "            new_urls = ['{}{}'.format(base_url,i) for i in urls]\n",
    "    return new_urls "
   ]
  },
  {
   "cell_type": "code",
   "execution_count": null,
   "metadata": {},
   "outputs": [],
   "source": [
    "shops_first_letter_links = retrieve_shops_first_letter(base_url)"
   ]
  },
  {
   "cell_type": "code",
   "execution_count": null,
   "metadata": {},
   "outputs": [],
   "source": [
    "def retrieve_stores(y):\n",
    "    \"\"\"Get all links of all shops\"\"\"\n",
    "    stores = []\n",
    "    for each in y:\n",
    "        html = urlopen(each)\n",
    "        soup = BeautifulSoup(html, \"lxml\" )\n",
    "        newnewurl = []\n",
    "        for ul in soup.find_all('ol', class_='col2 d_store_list'):\n",
    "            for li in ul.find_all('li'):\n",
    "                a = li.find('a')\n",
    "                newnewurl = a['href']\n",
    "                stores.append(newnewurl)\n",
    "                all_stores_links = ['{}{}'.format(base_url,i) for i in stores]\n",
    "    return(all_stores_links)\n",
    "    "
   ]
  },
  {
   "cell_type": "code",
   "execution_count": null,
   "metadata": {},
   "outputs": [],
   "source": [
    "all_shops_links = retrieve_stores(shops_first_letter_links)"
   ]
  },
  {
   "cell_type": "code",
   "execution_count": null,
   "metadata": {},
   "outputs": [],
   "source": [
    "def retrieve_Canadian_shops(w):\n",
    "    \"\"\"Get all links which already includes the word \"Canada\"\"\"\"\n",
    "    Canada_list = [s for s in w if \"/Canada/\" in s]\n",
    "    return Canada_list"
   ]
  },
  {
   "cell_type": "code",
   "execution_count": null,
   "metadata": {},
   "outputs": [],
   "source": [
    "first_Canada_list = retrieve_Canadian_shops(all_shops_links)"
   ]
  },
  {
   "cell_type": "code",
   "execution_count": null,
   "metadata": {},
   "outputs": [],
   "source": [
    "def retrieve_others_shops(w):\n",
    "    \"\"\"Get all links which does not include the word \"Canada\"\"\"\"\n",
    "    stores_for_work = [s for s in w if \"/Canada/\" not in s]\n",
    "    others_stores = [re.sub(r'\\s+', '%20', x) for x in stores_for_work]\n",
    "    return others_stores"
   ]
  },
  {
   "cell_type": "code",
   "execution_count": null,
   "metadata": {},
   "outputs": [],
   "source": [
    "others_stores = retrieve_others_shops(all_shops_links)"
   ]
  },
  {
   "cell_type": "code",
   "execution_count": null,
   "metadata": {},
   "outputs": [],
   "source": [
    "def retrieve_links_from_side_menu(x):\n",
    "    \"\"\"Get all links of all shops of all counties from side menu\"\"\"\n",
    "    second_Canada_list = []\n",
    "    for each in x:\n",
    "        html = urlopen(each)\n",
    "        soup = BeautifulSoup(html, \"lxml\")\n",
    "        urlCanada = []\n",
    "        for ul in soup.find_all('ul', class_='sidemenu salmon'):\n",
    "            for li in ul.find_all('li'): \n",
    "                a = li.find('a')\n",
    "                urlCanada = a['href'] \n",
    "                second_Canada_list.append(urlCanada)\n",
    "                second_Canada_list_links = ['{}{}'.format(base_url,i) for i in second_Canada_list]\n",
    "    return(second_Canada_list_links)\n",
    "        "
   ]
  },
  {
   "cell_type": "code",
   "execution_count": null,
   "metadata": {},
   "outputs": [],
   "source": [
    "side_menu_links = retrieve_links_from_side_menu(others_stores)"
   ]
  },
  {
   "cell_type": "code",
   "execution_count": null,
   "metadata": {},
   "outputs": [],
   "source": [
    "\"\"\"Divide all side menu links on 2 lists: already Canadian and not\"\"\""
   ]
  },
  {
   "cell_type": "code",
   "execution_count": null,
   "metadata": {},
   "outputs": [],
   "source": [
    "second_Canada_list = retrieve_Canadian_shops(side_menu_links)"
   ]
  },
  {
   "cell_type": "code",
   "execution_count": null,
   "metadata": {},
   "outputs": [],
   "source": [
    "third_Canada_list = first_Canada_list + second_Canada_list"
   ]
  },
  {
   "cell_type": "code",
   "execution_count": null,
   "metadata": {},
   "outputs": [],
   "source": [
    "def retrieve_provincies(x):\n",
    "    \"\"\"Get all links of all provinces inside all Canadian links\"\"\"\n",
    "    provinces = []\n",
    "    for each in x:\n",
    "        html = urlopen(each)\n",
    "        soup = BeautifulSoup(html, \"lxml\")\n",
    "        urlProv = []\n",
    "        for table in soup.find_all('table', class_='table1'):\n",
    "            for a in table.find_all('a'):\n",
    "                urlProv = a['href']\n",
    "                provinces.append(urlProv)\n",
    "                provinces_list = ['{}{}'.format(base_url,i) for i in provinces]\n",
    "                provinces_list_links = [re.sub(r'\\s+', '%20', x) for x in provinces_list]\n",
    "    return(provinces_list_links)"
   ]
  },
  {
   "cell_type": "code",
   "execution_count": null,
   "metadata": {},
   "outputs": [],
   "source": [
    "all_provinces_links = retrieve_provincies(third_Canada_list)"
   ]
  },
  {
   "cell_type": "code",
   "execution_count": null,
   "metadata": {},
   "outputs": [],
   "source": [
    "\"\"\"My goal is to get all links with \"view\" inside\"\"\""
   ]
  },
  {
   "cell_type": "code",
   "execution_count": null,
   "metadata": {},
   "outputs": [],
   "source": [
    "def retrieve_links_with_view_inside(x):\n",
    "    \"\"\"Get links that is ready for scraping\"\"\"\n",
    "    view_list = [s for s in x if \"/view/\" in s]\n",
    "    return view_list"
   ]
  },
  {
   "cell_type": "code",
   "execution_count": null,
   "metadata": {},
   "outputs": [],
   "source": [
    "first_list_ready_for_scraping = retrieve_links_with_view_inside(all_provinces_links)"
   ]
  },
  {
   "cell_type": "code",
   "execution_count": null,
   "metadata": {},
   "outputs": [],
   "source": [
    "def retrieve_links_for_next_step(x):\n",
    "    \"\"\"Get new list for one more step before scraping\"\"\"\n",
    "    working_list = [s for s in x if \"/view/\" not in s]\n",
    "    return working_list"
   ]
  },
  {
   "cell_type": "code",
   "execution_count": null,
   "metadata": {},
   "outputs": [],
   "source": [
    "list_to_work_on = retrieve_links_for_next_step(all_provinces_links)"
   ]
  },
  {
   "cell_type": "code",
   "execution_count": null,
   "metadata": {},
   "outputs": [],
   "source": [
    "def retrieve_view_links(x):\n",
    "    \"\"\"Get links with \"view\" from the last list of links\"\"\"\n",
    "    links = []\n",
    "    for each in x:\n",
    "        try:\n",
    "            html = urlopen(each)\n",
    "            soup = BeautifulSoup(html, \"lxml\")\n",
    "            \n",
    "        except (urllib.error.HTTPError,  urllib.error.URLError, UnicodeEncodeError):\n",
    "               print('Continue') \n",
    "        \n",
    "        view_links = []\n",
    "        for table in soup.find_all('table', class_='table1'):\n",
    "            for a in table.find_all('a'):\n",
    "                view_links = a['href']\n",
    "                links.append(view_links)\n",
    "                all_links = ['{}{}'.format(base_url,i) for i in links]\n",
    "    return(all_links)"
   ]
  },
  {
   "cell_type": "code",
   "execution_count": null,
   "metadata": {},
   "outputs": [],
   "source": [
    "second_list_ready_for_scraping = retrieve_view_links(list_to_work_on)"
   ]
  },
  {
   "cell_type": "code",
   "execution_count": null,
   "metadata": {},
   "outputs": [],
   "source": [
    "final_list_ready_for_scraping = first_list_ready_for_scraping + second_list_ready_for_scraping"
   ]
  },
  {
   "cell_type": "code",
   "execution_count": null,
   "metadata": {},
   "outputs": [],
   "source": [
    "def create_csv(x):\n",
    "    \"\"\"Create and fill out csv with necessary information\"\"\"\n",
    "    stores=[]\n",
    "    addresses=[]\n",
    "    cities=[]\n",
    "    provincies=[]\n",
    "    postalcodes=[]\n",
    "\n",
    "    for n in stores_ready_for_scraping9:\n",
    "        try:\n",
    "            html = urlopen(n).read().decode('utf-8')\n",
    "            soup = BeautifulSoup(html, \"lxml\")\n",
    "        except (urllib.error.HTTPError,  urllib.error.URLError, UnicodeEncodeError):\n",
    "            print('Continue Scraping') \n",
    "        \n",
    "    for store in soup.find('span', itemprop = 'name'):\n",
    "        stores.append(store)\n",
    "        \n",
    "    \n",
    "    address = soup.find(itemprop = 'streetAddress').get_text()\n",
    "    addresses.append(address)\n",
    "    \n",
    "    \n",
    "    city = soup.find(itemprop = 'addressLocality').get_text()\n",
    "    cities.append(city)\n",
    "    \n",
    "    province = soup.find(itemprop = 'addressRegion').get_text()\n",
    "    provincies.append(province)\n",
    "    \n",
    "    postalcode = soup.find(itemprop = 'postalCode').get_text()\n",
    "    postalcodes.append(postalcode)\n",
    "    \n",
    "    with open('All_Stores.csv', 'w', encoding='utf-8', newline='') as f:\n",
    "        writer = csv.writer(f)\n",
    "        \n",
    "        writer.writerow((\"Store name\", \"Address\", \"City\", \"Province\", \"Postal Code\"))\n",
    "        writer.writerows(zip(stores, addresses, cities, provincies, postalcodes))    "
   ]
  },
  {
   "cell_type": "code",
   "execution_count": null,
   "metadata": {},
   "outputs": [],
   "source": [
    "create_csv(final_list_ready_for_scraping)"
   ]
  },
  {
   "cell_type": "code",
   "execution_count": null,
   "metadata": {},
   "outputs": [],
   "source": []
  }
 ],
 "metadata": {
  "kernelspec": {
   "display_name": "Python 3",
   "language": "python",
   "name": "python3"
  },
  "language_info": {
   "codemirror_mode": {
    "name": "ipython",
    "version": 3
   },
   "file_extension": ".py",
   "mimetype": "text/x-python",
   "name": "python",
   "nbconvert_exporter": "python",
   "pygments_lexer": "ipython3",
   "version": "3.8.5"
  }
 },
 "nbformat": 4,
 "nbformat_minor": 4
}
