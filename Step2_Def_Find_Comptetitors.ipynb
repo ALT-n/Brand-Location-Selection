{
 "cells": [
  {
   "cell_type": "code",
   "execution_count": null,
   "metadata": {},
   "outputs": [],
   "source": [
    "import requests\n",
    "from urllib.parse import urlencode\n",
    "import json\n",
    "import pandas as pd\n",
    "from geopy.distance import geodesic "
   ]
  },
  {
   "cell_type": "code",
   "execution_count": null,
   "metadata": {},
   "outputs": [],
   "source": [
    "api_key = ''"
   ]
  },
  {
   "cell_type": "code",
   "execution_count": null,
   "metadata": {},
   "outputs": [],
   "source": [
    "data = pd.read_csv (r'path.csv')\n",
    "data.head(5)"
   ]
  },
  {
   "cell_type": "code",
   "execution_count": null,
   "metadata": {},
   "outputs": [],
   "source": [
    "population = pd.read_csv (r'path.csv')\n",
    "population.head(5)"
   ]
  },
  {
   "cell_type": "code",
   "execution_count": null,
   "metadata": {},
   "outputs": [],
   "source": [
    "def find_competitors(potential_location):\n",
    "    endpoint = f'https://maps.googleapis.com/maps/api/geocode/json'\n",
    "    params = {'address': potential_location, 'key': api_key}\n",
    "    url_params = urlencode(params)\n",
    "    url = f'{endpoint}?{url_params}'\n",
    "    r = requests.get(url)\n",
    "    latlng = {}\n",
    "    try:\n",
    "        latlng = r.json()['results'][0]['geometry']['location']\n",
    "    except:\n",
    "        pass\n",
    "    potential_location_latlng = (latlng.get('lat'), latlng.get('lng'))\n",
    "    \n",
    "    \n",
    "    data['Distance'] = data.apply(lambda x:geodesic((x[\"Latitude\"], x[\"Longitude\"]), potential_location_latlng), axis=1)\n",
    "    \n",
    "    \n",
    "    Radius_2km = data.loc[data['Distance'] < 2.00]\n",
    "    Competitiors_in_2km = Radius_2km['StoreName'].count()\n",
    "    \n",
    "    Radius_5km = data.loc[(data['Distance'] >= 2.00) & (data['Distance'] < 5.00)]\n",
    "    Competitiors_in_5km = Radius_5km['StoreName'].count()\n",
    "    Radius_10km = data.loc[(data['Distance'] >= 5.00) & (data['Distance'] <= 10.00)]\n",
    "    Competitiors_in_10km = Radius_10km['StoreName'].count()\n",
    "    \n",
    "    print(\"Population in potential location:\")\n",
    "    print(population[population.postcode == potential_location].to_string(index=False))\n",
    "    print('___________________________________________________________________________')\n",
    "    \n",
    "    print(\"Number of competitors in 2 km radius:\")\n",
    "    print(Competitiors_in_2km)\n",
    "    \n",
    "    print(\"Stores in radius 2 km\")\n",
    "    print(Radius_2km[['StoreName', 'City', 'Category1', 'Category2']].to_string(index=False))\n",
    "    print('___________________________________________________________________________')\n",
    "    \n",
    "    print(\"Number of competitors in 5 km radius:\")\n",
    "    print(Competitiors_in_5km)\n",
    "\n",
    "    print(\"Stores in radius 5 km\")\n",
    "    print(Radius_5km[['StoreName', 'City', 'Category1', 'Category2']].to_string(index=False))\n",
    "    print('___________________________________________________________________________')\n",
    "    \n",
    "    print(\"Number of competitors in 10 km radius:\")\n",
    "    print(Competitiors_in_10km)\n",
    "\n",
    "    print(\"Stores in radius 10 km\")\n",
    "    print(Radius_10km[['StoreName', 'City', 'Category1', 'Category2']].to_string(index=False))\n",
    "    \n",
    "    \n",
    "    "
   ]
  }
 ],
 "metadata": {
  "kernelspec": {
   "display_name": "Python 3",
   "language": "python",
   "name": "python3"
  },
  "language_info": {
   "codemirror_mode": {
    "name": "ipython",
    "version": 3
   },
   "file_extension": ".py",
   "mimetype": "text/x-python",
   "name": "python",
   "nbconvert_exporter": "python",
   "pygments_lexer": "ipython3",
   "version": "3.8.5"
  }
 },
 "nbformat": 4,
 "nbformat_minor": 4
}
