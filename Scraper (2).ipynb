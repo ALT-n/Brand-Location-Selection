{
 "cells": [
  {
   "cell_type": "code",
   "execution_count": 5,
   "metadata": {},
   "outputs": [],
   "source": [
    "from bs4 import BeautifulSoup, SoupStrainer\n",
    "import urllib\n",
    "import simplejson\n",
    "import requests\n",
    "from urllib.request import urlopen\n",
    "import json\n",
    "import csv\n",
    "import re\n",
    "from html.parser import HTMLParser\n",
    "import urllib.request"
   ]
  },
  {
   "cell_type": "code",
   "execution_count": 38,
   "metadata": {},
   "outputs": [
    {
     "name": "stdout",
     "output_type": "stream",
     "text": [
      "['https://www.mystore411.com/store/category/ATM']\n",
      "['https://www.mystore411.com/store/category/Auto+Supply']\n",
      "['https://www.mystore411.com/store/category/Bank']\n",
      "['https://www.mystore411.com/store/category/Beauty']\n",
      "['https://www.mystore411.com/store/category/Bookstore']\n",
      "['https://www.mystore411.com/store/category/Cafe']\n",
      "['https://www.mystore411.com/store/category/Car+Dealer']\n",
      "['https://www.mystore411.com/store/category/Car+Rental']\n",
      "['https://www.mystore411.com/store/category/Clothing']\n",
      "['https://www.mystore411.com/store/category/Coffee']\n",
      "['https://www.mystore411.com/store/category/Dental']\n",
      "['https://www.mystore411.com/store/category/Department+Store']\n",
      "['https://www.mystore411.com/store/category/Electronics']\n",
      "['https://www.mystore411.com/store/category/Fashion']\n",
      "['https://www.mystore411.com/store/category/Fast+Food']\n",
      "['https://www.mystore411.com/store/category/Furniture']\n",
      "['https://www.mystore411.com/store/category/Games']\n",
      "['https://www.mystore411.com/store/category/Gift']\n",
      "['https://www.mystore411.com/store/category/Grocery']\n",
      "['https://www.mystore411.com/store/category/Health+Food']\n",
      "['https://www.mystore411.com/store/category/Home+Furnishing']\n",
      "['https://www.mystore411.com/store/category/Home+Improvement']\n",
      "['https://www.mystore411.com/store/category/Icecream']\n",
      "['https://www.mystore411.com/store/category/Jewelry']\n",
      "['https://www.mystore411.com/store/category/Kitchen']\n",
      "['https://www.mystore411.com/store/category/Mail']\n",
      "['https://www.mystore411.com/store/category/Medical']\n",
      "['https://www.mystore411.com/store/category/Money+Transfer']\n",
      "['https://www.mystore411.com/store/category/Movie+Theatres']\n",
      "['https://www.mystore411.com/store/category/Office+Supply']\n",
      "['https://www.mystore411.com/store/category/Outdoor']\n",
      "['https://www.mystore411.com/store/category/Pest']\n",
      "['https://www.mystore411.com/store/category/Pets']\n",
      "['https://www.mystore411.com/store/category/Pharmacy']\n",
      "['https://www.mystore411.com/store/category/Real+Estate']\n",
      "['https://www.mystore411.com/store/category/Restaurant']\n",
      "['https://www.mystore411.com/store/category/Salon']\n",
      "['https://www.mystore411.com/store/category/Shoes']\n",
      "['https://www.mystore411.com/store/category/Sports']\n",
      "['https://www.mystore411.com/store/category/Storage']\n",
      "['https://www.mystore411.com/store/category/Supermarket']\n",
      "['https://www.mystore411.com/store/category/Tool']\n",
      "['https://www.mystore411.com/store/category/Toys']\n",
      "['https://www.mystore411.com/store/category/Warehouse+Club']\n",
      "['https://www.mystore411.com/store/category/Wireless']\n",
      "['https://www.mystore411.com/store/category/Yogurt']\n"
     ]
    }
   ],
   "source": [
    "class LinkScrape(HTMLParser):\n",
    "    '''The function to find links with all categories'''\n",
    "    def handle_starttag(self, tag, attrs):\n",
    "        CategLinks=[]\n",
    "        if tag == 'a':\n",
    "            for attr in attrs:\n",
    "                if attr[0] == 'href':\n",
    "                    link = attr[1]\n",
    "                    if link.find('category') >= 0:\n",
    "                        CategLinks.append(url + link)\n",
    "                        #CategLinks = url + link\n",
    "                        print(CategLinks)\n",
    "                        \n",
    "        return CategLinks\n",
    "\n",
    "#https://www.mystore411.com/store/category/ATM   \n",
    "#https://www.mystore411.com/store/listing/1643/BB-T-store-locations\n",
    "    \n",
    "    def handle_starttag(self, tag, attrs):\n",
    "        ShopLinks=[]\n",
    "        if tag == 'a':\n",
    "            for attr in CategLinks:\n",
    "                if attr[0] == 'href':\n",
    "                    link = attr[1]\n",
    "                    if link.find('listing') >= 0:\n",
    "                        ShopLinks = CategLinks[0:33] + link[0:7]\n",
    "                        print(CategLinks)\n",
    "          \n",
    "url = 'https://www.mystore411.com'\n",
    "    \n",
    "request_object = urllib.request.Request(url)\n",
    "page_object = urllib.request.urlopen(request_object)\n",
    "newurl = LinkScrape()    \n",
    "newurl = newurl.feed(page_object.read().decode('utf-8'))     \n",
    "\n",
    "                        \n",
    "                        \n",
    "                        \n"
   ]
  },
  {
   "cell_type": "code",
   "execution_count": null,
   "metadata": {},
   "outputs": [],
   "source": []
  }
 ],
 "metadata": {
  "kernelspec": {
   "display_name": "Python 3",
   "language": "python",
   "name": "python3"
  },
  "language_info": {
   "codemirror_mode": {
    "name": "ipython",
    "version": 3
   },
   "file_extension": ".py",
   "mimetype": "text/x-python",
   "name": "python",
   "nbconvert_exporter": "python",
   "pygments_lexer": "ipython3",
   "version": "3.8.5"
  }
 },
 "nbformat": 4,
 "nbformat_minor": 4
}
