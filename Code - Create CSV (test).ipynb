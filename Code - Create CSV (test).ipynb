{
 "cells": [
  {
   "cell_type": "code",
   "execution_count": 39,
   "metadata": {},
   "outputs": [],
   "source": [
    "from bs4 import BeautifulSoup, NavigableString\n",
    "import urllib\n",
    "import simplejson\n",
    "import requests\n",
    "from urllib.request import urlopen\n",
    "import json\n",
    "import csv\n",
    "import pandas"
   ]
  },
  {
   "cell_type": "code",
   "execution_count": 40,
   "metadata": {},
   "outputs": [],
   "source": [
    "test = ['https://www.mystore411.com/store/view/1112361818/Canada/AMSOIL-Acheson', 'https://www.mystore411.com/store/view/1112359505/Canada/AMSOIL-Alliance', 'https://www.mystore411.com/store/view/1112359545/Canada/AMSOIL-Athabasca', 'https://www.mystore411.com/store/view/1112360807/Canada/AMSOIL-Banff']"
   ]
  },
  {
   "cell_type": "code",
   "execution_count": 109,
   "metadata": {},
   "outputs": [],
   "source": [
    "stores=[]\n",
    "addresses=[]\n",
    "cities=[]\n",
    "provincies=[]\n",
    "postalcodes=[]\n",
    "\n",
    "for n in test:\n",
    "    html = urlopen(n)\n",
    "    soup = BeautifulSoup(html, \"lxml\")\n",
    "    \n",
    "    #stores=[]\n",
    "    #addresses=[]\n",
    "    \n",
    "    \n",
    "    for store in soup.find('span', itemprop = 'name'):\n",
    "        stores.append(store)\n",
    "        #print(stores)\n",
    "    \n",
    "    address = soup.find(itemprop = 'streetAddress').get_text()\n",
    "    addresses.append(address)\n",
    "    #print(addresses)\n",
    "    \n",
    "    city = soup.find(itemprop = 'addressLocality').get_text()\n",
    "    cities.append(city)\n",
    "    \n",
    "    province = soup.find(itemprop = 'addressRegion').get_text()\n",
    "    provincies.append(province)\n",
    "    \n",
    "    postalcode = soup.find(itemprop = 'postalCode').get_text()\n",
    "    postalcodes.append(postalcode)\n",
    "    \n",
    "    \n",
    "    with open('some.csv', 'w', newline='') as f:\n",
    "        writer = csv.writer(f)\n",
    "        writer.writerow((\"Store name\", \"Address\", \"City\", \"Province\", \"Postal Code\"))\n",
    "        writer.writerows(zip(stores, addresses, cities, provincies, postalcodes))   \n",
    "       "
   ]
  },
  {
   "cell_type": "code",
   "execution_count": null,
   "metadata": {},
   "outputs": [],
   "source": []
  }
 ],
 "metadata": {
  "kernelspec": {
   "display_name": "Python 3",
   "language": "python",
   "name": "python3"
  },
  "language_info": {
   "codemirror_mode": {
    "name": "ipython",
    "version": 3
   },
   "file_extension": ".py",
   "mimetype": "text/x-python",
   "name": "python",
   "nbconvert_exporter": "python",
   "pygments_lexer": "ipython3",
   "version": "3.8.5"
  }
 },
 "nbformat": 4,
 "nbformat_minor": 4
}
